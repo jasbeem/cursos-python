{
  "cells": [
    {
      "cell_type": "markdown",
      "metadata": {
        "id": "K4etHOQh2lCq"
      },
      "source": [
        "<a href=\"https://colab.research.google.com/github/institutohumai/cursos-python/blob/master/Introduccion/2_Listas_Y_Funciones/ejercicio/ejercicio.ipynb\"> <img src='https://colab.research.google.com/assets/colab-badge.svg' /> </a>\n",
        "<div align=\"center\"> Recordá abrir en una nueva pestaña </div>\n"
      ]
    },
    {
      "cell_type": "markdown",
      "metadata": {
        "id": "uR2PnPcS2lCu"
      },
      "source": [
        "# Ejercicios II"
      ]
    },
    {
      "cell_type": "markdown",
      "metadata": {
        "id": "jEdCaWpX2lCw"
      },
      "source": [
        "## El contador de palabras\n",
        "\n",
        "Una revista científica quiere publicar los abstracts de los trabajos que aprobó recientemente pero primero tiene que asegurarse de que ninguno de los abstracts tenga más de 200 palabras. \n",
        "\n",
        "Para interactuar con los archivos que tenemos en nuestro \"file system\" vamos a utilizar el módulo os. No se preocupen por entender todos los detalles ahora, vamos a ir profundizando en la utilización de módulos. "
      ]
    },
    {
      "cell_type": "code",
      "execution_count": 1,
      "metadata": {
        "id": "b8ZdtG5O2lCy",
        "outputId": "6d0bf5ad-3d35-49c7-8206-0782f91ef584",
        "colab": {
          "base_uri": "https://localhost:8080/"
        }
      },
      "outputs": [
        {
          "output_type": "stream",
          "name": "stdout",
          "text": [
            "--2022-10-24 07:18:12--  https://datasets-humai.s3.amazonaws.com/datasets/publicaciones.zip\n",
            "Resolving datasets-humai.s3.amazonaws.com (datasets-humai.s3.amazonaws.com)... 52.217.36.92\n",
            "Connecting to datasets-humai.s3.amazonaws.com (datasets-humai.s3.amazonaws.com)|52.217.36.92|:443... connected.\n",
            "HTTP request sent, awaiting response... 200 OK\n",
            "Length: 4342 (4.2K) [application/zip]\n",
            "Saving to: ‘publicaciones.zip’\n",
            "\n",
            "publicaciones.zip   100%[===================>]   4.24K  --.-KB/s    in 0s      \n",
            "\n",
            "2022-10-24 07:18:13 (77.6 MB/s) - ‘publicaciones.zip’ saved [4342/4342]\n",
            "\n"
          ]
        }
      ],
      "source": [
        "!wget https://datasets-humai.s3.amazonaws.com/datasets/publicaciones.zip"
      ]
    },
    {
      "cell_type": "code",
      "execution_count": 2,
      "metadata": {
        "id": "IO_cy0Za2lC0",
        "outputId": "85fba7ba-d81e-4e4e-fc58-a89fcd52507f",
        "colab": {
          "base_uri": "https://localhost:8080/"
        }
      },
      "outputs": [
        {
          "output_type": "stream",
          "name": "stdout",
          "text": [
            "Archive:  publicaciones.zip\n",
            "   creating: publicaciones/\n",
            "  inflating: publicaciones/Yukon Delta Salmon Management.txt  \n",
            "  inflating: publicaciones/The Citrus Solution Phase II.txt  \n",
            "  inflating: publicaciones/Characterization of Iron Deposition in Recombinant Heteropolymer.txt  \n",
            "  inflating: publicaciones/Using GIS Site Suitability Analysis to Study Adaptability.txt  \n"
          ]
        }
      ],
      "source": [
        "!unzip publicaciones.zip"
      ]
    },
    {
      "cell_type": "code",
      "execution_count": 3,
      "metadata": {
        "id": "5Cyyfppj2lC2"
      },
      "outputs": [],
      "source": [
        "import os"
      ]
    },
    {
      "cell_type": "code",
      "execution_count": 4,
      "metadata": {
        "id": "V5uWnxwr2lC3"
      },
      "outputs": [],
      "source": [
        "archivos_directorio = os.listdir('publicaciones')"
      ]
    },
    {
      "cell_type": "code",
      "execution_count": 5,
      "metadata": {
        "id": "kpkQ_Xs_2lC4",
        "outputId": "435b88cb-cede-4d3a-df24-49979bbd3e05",
        "colab": {
          "base_uri": "https://localhost:8080/"
        }
      },
      "outputs": [
        {
          "output_type": "stream",
          "name": "stdout",
          "text": [
            "['Yukon Delta Salmon Management.txt', 'Characterization of Iron Deposition in Recombinant Heteropolymer.txt', 'The Citrus Solution Phase II.txt', 'Using GIS Site Suitability Analysis to Study Adaptability.txt']\n"
          ]
        }
      ],
      "source": [
        "print(archivos_directorio)"
      ]
    },
    {
      "cell_type": "markdown",
      "metadata": {
        "id": "9jJDEWAo2lC5"
      },
      "source": [
        "La función listdir nos devuelve una lista con todos los archivos que están en la carpeta publicaciones. Noten que solamente nos devuelve los nombres de los archivos, no la ruta completa que necesitamos para acceder a los mismos desde la ubicación en el filesystem donde se encuentra esta notebook.\n",
        "\n",
        "Las rutas hasta los archivos cambian con el sistema operativo, por eso si están en Windows, la forma de acceder al archivo Yukon Delta Salmon Management.txt es ejercicios\\\\Yukon Delta Salmon Management.txt mientras que si están en Linux o Unix la forma de acceder es ejercicios/Yukon Delta Salmon Management.txt .  Para evitar problemas y que el código sea ejecutable desde cualquier sistema operativo, el módulo os tiene la función os.join.\n",
        "\n",
        "Entonces para crear las rutas vamos a usar la función os.path.join y para esto es ideal una lista por comprensión"
      ]
    },
    {
      "cell_type": "code",
      "execution_count": 6,
      "metadata": {
        "id": "TSgHfnDp2lC6"
      },
      "outputs": [],
      "source": [
        "rutas_archivos = [os.path.join('publicaciones',archivo) for archivo in archivos_directorio]"
      ]
    },
    {
      "cell_type": "code",
      "execution_count": 7,
      "metadata": {
        "id": "2aj1JrOj2lC7",
        "outputId": "87456bdf-9843-4456-8ef3-f3e76f2dfdfb",
        "colab": {
          "base_uri": "https://localhost:8080/"
        }
      },
      "outputs": [
        {
          "output_type": "execute_result",
          "data": {
            "text/plain": [
              "['publicaciones/Yukon Delta Salmon Management.txt',\n",
              " 'publicaciones/Characterization of Iron Deposition in Recombinant Heteropolymer.txt',\n",
              " 'publicaciones/The Citrus Solution Phase II.txt',\n",
              " 'publicaciones/Using GIS Site Suitability Analysis to Study Adaptability.txt']"
            ]
          },
          "metadata": {},
          "execution_count": 7
        }
      ],
      "source": [
        "rutas_archivos"
      ]
    },
    {
      "cell_type": "markdown",
      "metadata": {
        "id": "-z44EenJ2lC8"
      },
      "source": [
        "Ahora vamos a unir estas dos listas del mismo tamaño en una lista de tuplas utilizando la función \"zip\" de Python nativo. Como el zip de Python devuelve un objeto iterable, vamos a convertirlo en lista para trabajar mejor"
      ]
    },
    {
      "cell_type": "code",
      "execution_count": 11,
      "metadata": {
        "id": "5jEKpeNf2lC8",
        "outputId": "76609c20-663a-48aa-b362-eec659863991",
        "colab": {
          "base_uri": "https://localhost:8080/"
        }
      },
      "outputs": [
        {
          "output_type": "execute_result",
          "data": {
            "text/plain": [
              "[('publicaciones/Yukon Delta Salmon Management.txt',\n",
              "  'Yukon Delta Salmon Management.txt'),\n",
              " ('publicaciones/Characterization of Iron Deposition in Recombinant Heteropolymer.txt',\n",
              "  'Characterization of Iron Deposition in Recombinant Heteropolymer.txt'),\n",
              " ('publicaciones/The Citrus Solution Phase II.txt',\n",
              "  'The Citrus Solution Phase II.txt'),\n",
              " ('publicaciones/Using GIS Site Suitability Analysis to Study Adaptability.txt',\n",
              "  'Using GIS Site Suitability Analysis to Study Adaptability.txt')]"
            ]
          },
          "metadata": {},
          "execution_count": 11
        }
      ],
      "source": [
        "tuplas_archivos = list(zip(rutas_archivos,archivos_directorio))\n",
        "tuplas_archivos"
      ]
    },
    {
      "cell_type": "code",
      "execution_count": 12,
      "metadata": {
        "id": "N1SjtYYh2lC9",
        "outputId": "bd421fb1-953a-48a7-dbf4-a96328dcc3ef",
        "colab": {
          "base_uri": "https://localhost:8080/"
        }
      },
      "outputs": [
        {
          "output_type": "stream",
          "name": "stdout",
          "text": [
            "('publicaciones/Yukon Delta Salmon Management.txt', 'Yukon Delta Salmon Management.txt')\n",
            "('publicaciones/Characterization of Iron Deposition in Recombinant Heteropolymer.txt', 'Characterization of Iron Deposition in Recombinant Heteropolymer.txt')\n",
            "('publicaciones/The Citrus Solution Phase II.txt', 'The Citrus Solution Phase II.txt')\n",
            "('publicaciones/Using GIS Site Suitability Analysis to Study Adaptability.txt', 'Using GIS Site Suitability Analysis to Study Adaptability.txt')\n"
          ]
        }
      ],
      "source": [
        "for tupla in tuplas_archivos:\n",
        "    print(tupla)"
      ]
    },
    {
      "cell_type": "markdown",
      "metadata": {
        "id": "hbGhS1xC2lC9"
      },
      "source": [
        "Ahora sí, vamos a pedirles que creen una función que reciba una tupla con la ruta y el nombre del archivo. Necesitamos que esta función cuente las palabras que hay en el txt que se encuentra en esa ruta y luego imprima el nombre del archivo y la cantidad. \n",
        "Después vamos a escribir un for loop que recorra la lista tuplas_archivos y devuelve una tupla con el nombre del archivo y la cantidad de palabras. Desde el loop for vamos a imprimir esa tupla.\n"
      ]
    },
    {
      "cell_type": "code",
      "execution_count": 23,
      "metadata": {
        "id": "EjxU5HGZ2lC-"
      },
      "outputs": [],
      "source": [
        "# 1. Escribir la función \n",
        "def cuenta_tamanyo(*archivo):\n",
        "  with open(archivo[0], 'r') as inp:\n",
        "    contenido = inp.read()\n",
        "  return len(contenido)\n",
        "\n",
        "  "
      ]
    },
    {
      "cell_type": "code",
      "execution_count": 24,
      "metadata": {
        "id": "c-apv21r2lC-",
        "outputId": "694e1bda-c5d3-4550-a07c-2afc4ed3c0f5",
        "colab": {
          "base_uri": "https://localhost:8080/"
        }
      },
      "outputs": [
        {
          "output_type": "stream",
          "name": "stdout",
          "text": [
            "El archivo \"Yukon Delta Salmon Management.txt\" tiene 759 caracteres\n",
            "El archivo \"Characterization of Iron Deposition in Recombinant Heteropolymer.txt\" tiene 1467 caracteres\n",
            "El archivo \"The Citrus Solution Phase II.txt\" tiene 3438 caracteres\n",
            "El archivo \"Using GIS Site Suitability Analysis to Study Adaptability.txt\" tiene 888 caracteres\n"
          ]
        }
      ],
      "source": [
        "# 2. Recorrer en un loop tuplas_archivos invocando a la función\n",
        "for tupla in tuplas_archivos:\n",
        "  tamanyo = cuenta_tamanyo(tupla[0],tupla[1])\n",
        "  print(f'El archivo \"{tupla[1]}\" tiene {tamanyo} caracteres')"
      ]
    },
    {
      "cell_type": "markdown",
      "metadata": {
        "id": "BMQ6xuad2lC_"
      },
      "source": [
        "Entonces ¿Cuáles superan las 250 palabras? Si quieren ir una milla extra modifiquen la función para que devuelva True si supera y False si no supera en lugar de devolver la cantidad. "
      ]
    },
    {
      "cell_type": "code",
      "execution_count": 25,
      "metadata": {
        "id": "RxuwrWYJ2lC_"
      },
      "outputs": [],
      "source": [
        "# 3. Modifiquen la función\n",
        "def cuenta_tamanyo(*archivo):\n",
        "  with open(archivo[0], 'r') as inp:\n",
        "    contenido = inp.read()\n",
        "  return len(contenido)>250"
      ]
    },
    {
      "cell_type": "code",
      "execution_count": 26,
      "metadata": {
        "id": "q0WY7eOm2lDA",
        "outputId": "8b7114f5-27a7-4b33-fddd-d45aa14f9970",
        "colab": {
          "base_uri": "https://localhost:8080/"
        }
      },
      "outputs": [
        {
          "output_type": "stream",
          "name": "stdout",
          "text": [
            "El archivo \"Yukon Delta Salmon Management.txt\" tiene 888 caracteres\n",
            "El archivo \"Characterization of Iron Deposition in Recombinant Heteropolymer.txt\" tiene 888 caracteres\n",
            "El archivo \"The Citrus Solution Phase II.txt\" tiene 888 caracteres\n",
            "El archivo \"Using GIS Site Suitability Analysis to Study Adaptability.txt\" tiene 888 caracteres\n"
          ]
        }
      ],
      "source": [
        "#4. Vuelvan a llamarla\n",
        "for tupla in tuplas_archivos:\n",
        "  if (cuenta_tamanyo(tupla[0],tupla[1])):\n",
        "    print(f'El archivo \"{tupla[1]}\" tiene {tamanyo} caracteres')"
      ]
    },
    {
      "cell_type": "code",
      "execution_count": null,
      "metadata": {
        "id": "UKTOgEhf2lDA"
      },
      "outputs": [],
      "source": []
    }
  ],
  "metadata": {
    "kernelspec": {
      "display_name": "conda_python3",
      "language": "python",
      "name": "conda_python3"
    },
    "language_info": {
      "codemirror_mode": {
        "name": "ipython",
        "version": 3
      },
      "file_extension": ".py",
      "mimetype": "text/x-python",
      "name": "python",
      "nbconvert_exporter": "python",
      "pygments_lexer": "ipython3",
      "version": "3.6.10"
    },
    "colab": {
      "provenance": []
    }
  },
  "nbformat": 4,
  "nbformat_minor": 0
}